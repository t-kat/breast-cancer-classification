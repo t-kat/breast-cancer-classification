{
 "cells": [
  {
   "cell_type": "code",
   "execution_count": 7,
   "metadata": {},
   "outputs": [],
   "source": [
    "import pandas as pd\n",
    "import numpy as np\n",
    "from sklearn.impute import SimpleImputer\n",
    "from sklearn.preprocessing import StandardScaler\n",
    "from sklearn.decomposition import PCA\n",
    "import plotly.express as px\n",
    "import plotly.io as pio\n",
    "pio.renderers.default = \"browser\"  # for opening the PCA figure in browser\n",
    "from sklearn.model_selection import train_test_split\n",
    "from sklearn.linear_model import LogisticRegression\n",
    "from sklearn import metrics"
   ]
  },
  {
   "cell_type": "code",
   "execution_count": 8,
   "metadata": {},
   "outputs": [],
   "source": [
    "def read_in(datafile):\n",
    "    \"\"\"\n",
    "    Function for reading csv file.\n",
    "    \n",
    "    :param datafile: csv file\n",
    "    :return: pandas dataframe, containing all rows and columns of input csv file\n",
    "    \"\"\"\n",
    "    df = pd.read_csv(datafile)\n",
    "    # replace 0s with NaNs\n",
    "   # df = df.replace(0, np.nan)\n",
    "    # Binarize target column\n",
    "    df['diagnosis'] = df['diagnosis'].map({'M': 1, 'B': 0}).astype(int)\n",
    "\n",
    "    return df"
   ]
  },
  {
   "cell_type": "code",
   "execution_count": 9,
   "metadata": {},
   "outputs": [],
   "source": [
    "def is_unbalanced(cancer_data):\n",
    "    \"\"\"\n",
    "    Function for assessing imbalance.\n",
    "    Counts occurrences of benign, malignant cancer types in the dataset.\n",
    "    \n",
    "    :param cancer_data: pandas df\n",
    "    :return: str, info about data imbalance\n",
    "    \"\"\"\n",
    "    b_count = data['diagnosis'].value_counts()[0]\n",
    "    m_count = data['diagnosis'].value_counts()[1]\n",
    "\n",
    "    if b_count / m_count * 100 or m_count / b_count * 100 != 50:\n",
    "        if b_count / m_count * 100 or m_count / b_count * 100 != 60:\n",
    "            return 'The imbalance in the dataset is less than 10%.'\n",
    "    else:\n",
    "        return 'The dataset is imbalanced - additional stratified sampling is required for accurate results.'\n"
   ]
  },
  {
   "cell_type": "code",
   "execution_count": 10,
   "metadata": {},
   "outputs": [],
   "source": [
    "def is_na(cancer_data):\n",
    "    return cancer_data.isna().sum()"
   ]
  },
  {
   "cell_type": "code",
   "execution_count": 11,
   "metadata": {},
   "outputs": [],
   "source": [
    "def impute_values(cancer_data):\n",
    "    # take a look at imputer from sklearn.preprocessing import Imputer\n",
    "    imputer = SimpleImputer(missing_values=np.nan, strategy='mean')\n",
    "    imputer = imputer.fit(cancer_data.iloc[:, 2:])\n",
    "    cancer_data.iloc[:, 2:] = imputer.transform(cancer_data.iloc[:, 2:])\n",
    "\n",
    "    return cancer_data"
   ]
  },
  {
   "cell_type": "code",
   "execution_count": 12,
   "metadata": {},
   "outputs": [],
   "source": [
    "def split_standardize(cancer_data):\n",
    "    \"\"\"\n",
    "    Function for splitting data into target and feature variables & applying Z-score standardization\n",
    "    on feature variables.\n",
    "    :param cancer_data:\n",
    "    :return:\n",
    "    \"\"\"\n",
    "    # Separate features\n",
    "    X = cancer_data.iloc[:, 2:].values\n",
    "    # Separate target\n",
    "    diagnosis = cancer_data.loc[:, ['diagnosis']].values\n",
    "    # Standardize\n",
    "    scaler = StandardScaler()\n",
    "    X = scaler.fit_transform(X)\n",
    "\n",
    "    return X, diagnosis"
   ]
  },
  {
   "cell_type": "code",
   "execution_count": 13,
   "metadata": {},
   "outputs": [],
   "source": [
    "def perform_pca(cancer_data, X):\n",
    "    \"\"\"\n",
    "    Function for reducing dataset dimensionality by performing PCA.\n",
    "    :param cancer_data: pandas df\n",
    "    :param X: array, contains only feature variable columns\n",
    "    :return: PCA plot popup\n",
    "    \"\"\"\n",
    "    # Covariance matrix\n",
    "    covariance_mat = PCA(n_components=2)\n",
    "    # Get principal components\n",
    "    pcs = covariance_mat.fit_transform(X)\n",
    "\n",
    "    # Grab only the first 2 PCs\n",
    "    pca_res = pd.DataFrame(data=pcs[:, 0:2],\n",
    "                           columns=['PC1', 'PC2'])\n",
    "    # Add back diagnosis column\n",
    "    pca_res = pd.concat([pca_res, cancer_data[['diagnosis']]], axis=1)\n",
    "    # Make names pretty\n",
    "    pca_res = pca_res.replace(to_replace='B', value='Benign')\n",
    "    pca_res = pca_res.replace(to_replace='M', value='Malignant')\n",
    "\n",
    "    # Get total variance explained by first 2 PCs\n",
    "    total_var = covariance_mat.explained_variance_ratio_\n",
    "    labels = {\n",
    "        'PC' + str(i + 1): f\"PC {i + 1} ({var:.1f}%)\"\n",
    "        for i, var in enumerate(total_var * 100)\n",
    "    }\n",
    "\n",
    "    # Plot\n",
    "    fig = px.scatter(pca_res, x='PC1', y='PC2', color=pca_res['diagnosis'],\n",
    "                     labels=labels)\n",
    "    fig.update_layout(legend_title_text='Diagnosis')\n",
    "    # set background transparent (a = alpha)\n",
    "    fig.update_layout({\n",
    "        'plot_bgcolor': 'rgba(0, 0, 0, 0)',\n",
    "    })\n",
    "    # black box around plot\n",
    "    fig.update_xaxes(showline=True, linewidth=2, linecolor='black', mirror=True)\n",
    "    fig.update_yaxes(showline=True, linewidth=2, linecolor='black', mirror=True)\n",
    "\n",
    "    fig.show()"
   ]
  },
  {
   "cell_type": "code",
   "execution_count": 14,
   "metadata": {},
   "outputs": [],
   "source": [
    "def log_regression(X, diagnosis):\n",
    "    \n",
    "    # Split data 2/3-1/3% with stratification (M/B 212/357)\n",
    "    X_train, X_test, Y_train, Y_test = train_test_split(X, diagnosis, test_size=0.33, random_state=0,\n",
    "                                                        stratify=diagnosis)\n",
    "\n",
    "    # Model\n",
    "    model = LogisticRegression()\n",
    "    # Model fit with changing the Y_train shape into array\n",
    "    fit = model.fit(X_train, Y_train.ravel())\n",
    "    # Make predictions\n",
    "    pred_res = model.predict(X_test)\n",
    "\n",
    "    # Confusion matrix\n",
    "    con_mat = metrics.confusion_matrix(Y_test, pred_res)\n",
    "\n",
    "    # Calculate accuracy, precision, recall\n",
    "    acc = metrics.accuracy_score(Y_test, pred_res) * 100\n",
    "    prec = metrics.precision_score(Y_test, pred_res) * 100\n",
    "    recall = metrics.recall_score(Y_test, pred_res) * 100\n",
    "\n",
    "    return [acc, prec, recall]"
   ]
  },
  {
   "cell_type": "code",
   "execution_count": 15,
   "metadata": {},
   "outputs": [
    {
     "name": "stdout",
     "output_type": "stream",
     "text": [
      "The imbalance in the dataset is less than 10%.\n",
      "Model accuracy: 96.28\n",
      "Model precision: 97.01\n",
      "Model recall: 92.86\n"
     ]
    }
   ],
   "source": [
    "if __name__ == '__main__':\n",
    "    # Get data\n",
    "    data = read_in('data.csv')\n",
    "\n",
    "    unbalance_check = is_unbalanced(data)\n",
    "    print(unbalance_check)\n",
    "    # Check for missing values\n",
    "    # missing_values = is_na(data)\n",
    "\n",
    "    # Impute missing values\n",
    "    #full_data = impute_values(data)\n",
    "\n",
    "    # Get features, response variable\n",
    "    x, y = split_standardize(data)\n",
    "\n",
    "    # Perform PCA\n",
    "    pca = perform_pca(data, x)\n",
    "\n",
    "    # Logistic regression\n",
    "    model_result = log_regression(x, y)\n",
    "    print(\"Model accuracy:\", round(model_result[0], 2))\n",
    "    print(\"Model precision:\", round(model_result[1], 2))\n",
    "    print(\"Model recall:\", round(model_result[2], 2))"
   ]
  }
 ],
 "metadata": {
  "kernelspec": {
   "display_name": "Python 3",
   "language": "python",
   "name": "python3"
  },
  "language_info": {
   "codemirror_mode": {
    "name": "ipython",
    "version": 3
   },
   "file_extension": ".py",
   "mimetype": "text/x-python",
   "name": "python",
   "nbconvert_exporter": "python",
   "pygments_lexer": "ipython3",
   "version": "3.7.0"
  }
 },
 "nbformat": 4,
 "nbformat_minor": 4
}
